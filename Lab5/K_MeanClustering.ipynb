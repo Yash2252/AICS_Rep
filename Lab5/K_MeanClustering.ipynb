{
  "cells": [
    {
      "cell_type": "markdown",
      "metadata": {
        "id": "view-in-github",
        "colab_type": "text"
      },
      "source": [
        "<a href=\"https://colab.research.google.com/github/Yash2252/Aics_Rep/blob/main/Lab5/K_MeanClustering.ipynb\" target=\"_parent\"><img src=\"https://colab.research.google.com/assets/colab-badge.svg\" alt=\"Open In Colab\"/></a>"
      ]
    },
    {
      "cell_type": "code",
      "execution_count": null,
      "id": "869d7dc8",
      "metadata": {
        "id": "869d7dc8"
      },
      "outputs": [],
      "source": [
        "import numpy as np\n",
        "from sklearn.cluster import KMeans\n",
        "import pandas as pd\n",
        "import matplotlib.pyplot as plt"
      ]
    },
    {
      "cell_type": "code",
      "execution_count": null,
      "id": "50fef352",
      "metadata": {
        "id": "50fef352",
        "outputId": "7c20bd03-063a-4948-83e5-af6153924734"
      },
      "outputs": [
        {
          "data": {
            "text/html": [
              "<div>\n",
              "<style scoped>\n",
              "    .dataframe tbody tr th:only-of-type {\n",
              "        vertical-align: middle;\n",
              "    }\n",
              "\n",
              "    .dataframe tbody tr th {\n",
              "        vertical-align: top;\n",
              "    }\n",
              "\n",
              "    .dataframe thead th {\n",
              "        text-align: right;\n",
              "    }\n",
              "</style>\n",
              "<table border=\"1\" class=\"dataframe\">\n",
              "  <thead>\n",
              "    <tr style=\"text-align: right;\">\n",
              "      <th></th>\n",
              "      <th>CustomerID</th>\n",
              "      <th>Genre</th>\n",
              "      <th>Age</th>\n",
              "      <th>Annual Income (k$)</th>\n",
              "      <th>Spending Score (1-100)</th>\n",
              "    </tr>\n",
              "  </thead>\n",
              "  <tbody>\n",
              "    <tr>\n",
              "      <th>0</th>\n",
              "      <td>1</td>\n",
              "      <td>Male</td>\n",
              "      <td>19</td>\n",
              "      <td>15</td>\n",
              "      <td>39</td>\n",
              "    </tr>\n",
              "    <tr>\n",
              "      <th>1</th>\n",
              "      <td>2</td>\n",
              "      <td>Male</td>\n",
              "      <td>21</td>\n",
              "      <td>15</td>\n",
              "      <td>81</td>\n",
              "    </tr>\n",
              "    <tr>\n",
              "      <th>2</th>\n",
              "      <td>3</td>\n",
              "      <td>Female</td>\n",
              "      <td>20</td>\n",
              "      <td>16</td>\n",
              "      <td>6</td>\n",
              "    </tr>\n",
              "    <tr>\n",
              "      <th>3</th>\n",
              "      <td>4</td>\n",
              "      <td>Female</td>\n",
              "      <td>23</td>\n",
              "      <td>16</td>\n",
              "      <td>77</td>\n",
              "    </tr>\n",
              "    <tr>\n",
              "      <th>4</th>\n",
              "      <td>5</td>\n",
              "      <td>Female</td>\n",
              "      <td>31</td>\n",
              "      <td>17</td>\n",
              "      <td>40</td>\n",
              "    </tr>\n",
              "  </tbody>\n",
              "</table>\n",
              "</div>"
            ],
            "text/plain": [
              "   CustomerID   Genre  Age  Annual Income (k$)  Spending Score (1-100)\n",
              "0           1    Male   19                  15                      39\n",
              "1           2    Male   21                  15                      81\n",
              "2           3  Female   20                  16                       6\n",
              "3           4  Female   23                  16                      77\n",
              "4           5  Female   31                  17                      40"
            ]
          },
          "execution_count": 38,
          "metadata": {},
          "output_type": "execute_result"
        }
      ],
      "source": [
        "data = pd.read_csv(\"Mall_Customers.csv\")\n",
        "data.head()"
      ]
    },
    {
      "cell_type": "code",
      "execution_count": null,
      "id": "71cf2173",
      "metadata": {
        "id": "71cf2173",
        "outputId": "78a14ba5-5dfa-4ea5-e125-b7979955cade"
      },
      "outputs": [
        {
          "name": "stdout",
          "output_type": "stream",
          "text": [
            "     Age  Annual Income (k$)\n",
            "0     19                  15\n",
            "1     21                  15\n",
            "2     20                  16\n",
            "3     23                  16\n",
            "4     31                  17\n",
            "..   ...                 ...\n",
            "195   35                 120\n",
            "196   45                 126\n",
            "197   32                 126\n",
            "198   32                 137\n",
            "199   30                 137\n",
            "\n",
            "[200 rows x 2 columns] \n",
            "\n",
            "      Spending Score (1-100)\n",
            "0                        39\n",
            "1                        81\n",
            "2                         6\n",
            "3                        77\n",
            "4                        40\n",
            "..                      ...\n",
            "195                      79\n",
            "196                      28\n",
            "197                      74\n",
            "198                      18\n",
            "199                      83\n",
            "\n",
            "[200 rows x 1 columns]\n"
          ]
        }
      ],
      "source": [
        "x=data.drop(\"CustomerID\",axis=1)\n",
        "x=x.drop(\"Genre\",axis=1)\n",
        "x=x.drop(\"Spending Score (1-100)\",axis=1)\n",
        "y=data.drop(\"CustomerID\",axis=1)\n",
        "y=y.drop(\"Genre\",axis=1)\n",
        "y=y.drop(\"Age\",axis=1)\n",
        "y=y.drop(\"Annual Income (k$)\",axis=1)\n",
        "print(x,\"\\n\\n\",y)"
      ]
    },
    {
      "cell_type": "code",
      "execution_count": null,
      "id": "0cfa7ba7",
      "metadata": {
        "id": "0cfa7ba7"
      },
      "outputs": [],
      "source": [
        "\n",
        "kmeans = KMeans(n_clusters=3) \n",
        "y_pred= kmeans.fit_predict(x) "
      ]
    },
    {
      "cell_type": "code",
      "execution_count": null,
      "id": "054ea730",
      "metadata": {
        "id": "054ea730",
        "outputId": "a4301d93-5e1f-4236-e279-01dea2fd9a12"
      },
      "outputs": [
        {
          "name": "stdout",
          "output_type": "stream",
          "text": [
            "[2 2 2 2 2 2 2 2 0 2 0 2 0 2 2 2 2 2 2 2 2 2 2 2 0 2 2 2 2 2 0 2 0 2 0 2 2\n",
            " 2 2 2 0 2 0 2 0 2 0 2 2 2 0 2 2 0 0 0 0 0 2 0 0 2 0 0 0 2 0 0 2 2 0 0 0 0\n",
            " 0 2 0 0 2 0 0 0 0 0 2 0 0 2 0 0 0 2 0 0 1 1 0 1 0 1 1 0 0 1 0 1 0 0 0 0 0\n",
            " 1 1 1 1 1 0 0 0 0 1 1 1 1 1 1 1 1 0 1 1 1 1 1 1 1 1 1 1 1 1 1 1 1 1 1 1 1\n",
            " 1 1 1 1 1 1 1 1 1 1 1 1 1 1 1 1 1 1 1 1 1 1 1 1 1 1 1 1 1 1 1 1 1 1 1 1 1\n",
            " 1 1 1 1 1 1 1 1 1 1 1 1 1 1 1]\n"
          ]
        }
      ],
      "source": [
        "print(y_pred)"
      ]
    },
    {
      "cell_type": "code",
      "execution_count": null,
      "id": "fb631931",
      "metadata": {
        "id": "fb631931",
        "outputId": "f59b8335-eeaa-46d5-c146-1e0b5e2f1f23"
      },
      "outputs": [
        {
          "data": {
            "text/html": [
              "<div>\n",
              "<style scoped>\n",
              "    .dataframe tbody tr th:only-of-type {\n",
              "        vertical-align: middle;\n",
              "    }\n",
              "\n",
              "    .dataframe tbody tr th {\n",
              "        vertical-align: top;\n",
              "    }\n",
              "\n",
              "    .dataframe thead th {\n",
              "        text-align: right;\n",
              "    }\n",
              "</style>\n",
              "<table border=\"1\" class=\"dataframe\">\n",
              "  <thead>\n",
              "    <tr style=\"text-align: right;\">\n",
              "      <th></th>\n",
              "      <th>CustomerID</th>\n",
              "      <th>Genre</th>\n",
              "      <th>Age</th>\n",
              "      <th>Annual Income (k$)</th>\n",
              "      <th>Spending Score (1-100)</th>\n",
              "      <th>cluster</th>\n",
              "    </tr>\n",
              "  </thead>\n",
              "  <tbody>\n",
              "    <tr>\n",
              "      <th>0</th>\n",
              "      <td>1</td>\n",
              "      <td>Male</td>\n",
              "      <td>19</td>\n",
              "      <td>15</td>\n",
              "      <td>39</td>\n",
              "      <td>2</td>\n",
              "    </tr>\n",
              "    <tr>\n",
              "      <th>1</th>\n",
              "      <td>2</td>\n",
              "      <td>Male</td>\n",
              "      <td>21</td>\n",
              "      <td>15</td>\n",
              "      <td>81</td>\n",
              "      <td>2</td>\n",
              "    </tr>\n",
              "    <tr>\n",
              "      <th>2</th>\n",
              "      <td>3</td>\n",
              "      <td>Female</td>\n",
              "      <td>20</td>\n",
              "      <td>16</td>\n",
              "      <td>6</td>\n",
              "      <td>2</td>\n",
              "    </tr>\n",
              "    <tr>\n",
              "      <th>3</th>\n",
              "      <td>4</td>\n",
              "      <td>Female</td>\n",
              "      <td>23</td>\n",
              "      <td>16</td>\n",
              "      <td>77</td>\n",
              "      <td>2</td>\n",
              "    </tr>\n",
              "    <tr>\n",
              "      <th>4</th>\n",
              "      <td>5</td>\n",
              "      <td>Female</td>\n",
              "      <td>31</td>\n",
              "      <td>17</td>\n",
              "      <td>40</td>\n",
              "      <td>2</td>\n",
              "    </tr>\n",
              "  </tbody>\n",
              "</table>\n",
              "</div>"
            ],
            "text/plain": [
              "   CustomerID   Genre  Age  Annual Income (k$)  Spending Score (1-100)  \\\n",
              "0           1    Male   19                  15                      39   \n",
              "1           2    Male   21                  15                      81   \n",
              "2           3  Female   20                  16                       6   \n",
              "3           4  Female   23                  16                      77   \n",
              "4           5  Female   31                  17                      40   \n",
              "\n",
              "   cluster  \n",
              "0        2  \n",
              "1        2  \n",
              "2        2  \n",
              "3        2  \n",
              "4        2  "
            ]
          },
          "execution_count": 52,
          "metadata": {},
          "output_type": "execute_result"
        }
      ],
      "source": [
        "data['cluster']=y_pred\n",
        "data.head()"
      ]
    },
    {
      "cell_type": "code",
      "execution_count": null,
      "id": "e576ae9e",
      "metadata": {
        "id": "e576ae9e"
      },
      "outputs": [],
      "source": [
        "c1 = data[data.cluster==0]\n",
        "c2 = data[data.cluster==1]\n",
        "c3 = data[data.cluster==2]"
      ]
    },
    {
      "cell_type": "code",
      "execution_count": null,
      "id": "71a57fd6",
      "metadata": {
        "id": "71a57fd6",
        "outputId": "5e1d5a68-cbbb-4908-bb61-bceaafe6f1a0"
      },
      "outputs": [
        {
          "name": "stdout",
          "output_type": "stream",
          "text": [
            "\n",
            "Here the 3 colored point depict a particular cluster and The '*' depics the centroid taken for finding the cluster \n"
          ]
        },
        {
          "data": {
            "image/png": "[encoded data removed]",
            "text/plain": [
              "<Figure size 432x288 with 1 Axes>"
            ]
          },
          "metadata": {
            "needs_background": "light"
          },
          "output_type": "display_data"
        }
      ],
      "source": [
        "plt.scatter(c1.Age,c1['Annual Income (k$)'],color='lime')\n",
        "plt.scatter(c2.Age,c2['Annual Income (k$)'],color='orange')\n",
        "plt.scatter(c3.Age,c3['Annual Income (k$)'],color='pink')\n",
        "plt.xlabel('Age')\n",
        "plt.ylabel('Income')\n",
        "plt.scatter(kmeans.cluster_centers_[:,0],kmeans.cluster_centers_[:,1],marker=\"*\",c=\"black\")\n",
        "print(\"Here the 3 colored point depict a particular cluster and The '*' depics the centroid taken for finding the cluster \")"
      ]
    },
    {
      "cell_type": "code",
      "execution_count": null,
      "id": "78321ac7",
      "metadata": {
        "id": "78321ac7"
      },
      "outputs": [],
      "source": []
    }
  ],
  "metadata": {
    "kernelspec": {
      "display_name": "Python 3 (ipykernel)",
      "language": "python",
      "name": "python3"
    },
    "language_info": {
      "codemirror_mode": {
        "name": "ipython",
        "version": 3
      },
      "file_extension": ".py",
      "mimetype": "text/x-python",
      "name": "python",
      "nbconvert_exporter": "python",
      "pygments_lexer": "ipython3",
      "version": "3.9.12"
    },
    "colab": {
      "provenance": [],
      "include_colab_link": true
    }
  },
  "nbformat": 4,
  "nbformat_minor": 5
}