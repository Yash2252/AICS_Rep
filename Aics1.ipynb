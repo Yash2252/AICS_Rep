{
  "nbformat": 4,
  "nbformat_minor": 0,
  "metadata": {
    "colab": {
      "name": "Aics1.ipynb",
      "provenance": [],
      "collapsed_sections": [],
      "authorship_tag": "ABX9TyOfEVfg5mk4LRLGQ5SlDCft",
      "include_colab_link": true
    },
    "kernelspec": {
      "name": "python3",
      "display_name": "Python 3"
    },
    "language_info": {
      "name": "python"
    }
  },
  "cells": [
    {
      "cell_type": "markdown",
      "metadata": {
        "id": "view-in-github",
        "colab_type": "text"
      },
      "source": [
        "<a href=\"https://colab.research.google.com/github/Yash2252/Aics_Rep/blob/main/Aics1.ipynb\" target=\"_parent\"><img src=\"https://colab.research.google.com/assets/colab-badge.svg\" alt=\"Open In Colab\"/></a>"
      ]
    },
    {
      "cell_type": "code",
      "execution_count": 6,
      "metadata": {
        "id": "B7Z96MfIWg0J",
        "colab": {
          "base_uri": "https://localhost:8080/"
        },
        "outputId": "06e9b7e6-8536-4eb2-fc3d-f1565628952d"
      },
      "outputs": [
        {
          "output_type": "stream",
          "name": "stdout",
          "text": [
            "[1, 2, 3, 4, 5, [5, 6, 7, 8, 9, 10]]\n",
            "6\n",
            "{1: 'A', 2: 'B', 3: 'C'}\n"
          ]
        }
      ],
      "source": [
        "l1=[1,2,3,4,5]\n",
        "l2=[5,6,7,8,9,10]\n",
        "l1.append(l2)\n",
        "print(l1)\n",
        "\n",
        "tup=(2,[5,7,8,9,6],6,'a','b')\n",
        "print(tup[2])\n",
        "\n",
        "dic={1:'A',2:'B',3:'C'}\n",
        "print(dic)"
      ]
    }
  ]
}